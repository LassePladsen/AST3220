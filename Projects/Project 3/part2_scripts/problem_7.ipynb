{
 "cells": [
  {
   "cell_type": "code",
   "execution_count": 60,
   "metadata": {},
   "outputs": [],
   "source": [
    "import sympy as sp\n",
    "from sympy.solvers import solve\n",
    "from sympy.solvers.ode import dsolve\n",
    "\n",
    "# Problem 7c\n",
    "C, t, alpha, lmbda, B, V0, Mp = sp.symbols(\"C t α λ B V0 Mp\")\n",
    "\n",
    "a = C * t**alpha\n",
    "da = sp.diff(a, t).simplify()\n",
    "\n",
    "phi = 2 / lmbda * sp.log(B * t)\n",
    "dphi = sp.diff(phi, t)\n",
    "ddphi = sp.diff(dphi, t)\n",
    "\n",
    "V = V0 * sp.exp(-lmbda * phi)\n",
    "dV = sp.diff(V, t) / dphi\n",
    "\n",
    "H = sp.sqrt(1 / (3 * Mp**2) * (0.5 * dphi**2 + V))\n",
    "eq1 = ddphi + 3 * H * dphi + dV"
   ]
  },
  {
   "cell_type": "code",
   "execution_count": 61,
   "metadata": {},
   "outputs": [
    {
     "data": {
      "text/latex": [
       "$\\displaystyle \\frac{2}{t λ}$"
      ],
      "text/plain": [
       "2/(t*λ)"
      ]
     },
     "execution_count": 61,
     "metadata": {},
     "output_type": "execute_result"
    }
   ],
   "source": [
    "dphi"
   ]
  },
  {
   "cell_type": "code",
   "execution_count": 62,
   "metadata": {},
   "outputs": [
    {
     "data": {
      "text/latex": [
       "$\\displaystyle - \\frac{2}{t^{2} λ}$"
      ],
      "text/plain": [
       "-2/(t**2*λ)"
      ]
     },
     "execution_count": 62,
     "metadata": {},
     "output_type": "execute_result"
    }
   ],
   "source": [
    "ddphi"
   ]
  },
  {
   "cell_type": "code",
   "execution_count": 63,
   "metadata": {},
   "outputs": [
    {
     "data": {
      "text/latex": [
       "$\\displaystyle \\frac{V_{0}}{B^{2} t^{2}}$"
      ],
      "text/plain": [
       "V0/(B**2*t**2)"
      ]
     },
     "execution_count": 63,
     "metadata": {},
     "output_type": "execute_result"
    }
   ],
   "source": [
    "V"
   ]
  },
  {
   "cell_type": "code",
   "execution_count": 5,
   "metadata": {},
   "outputs": [
    {
     "data": {
      "text/latex": [
       "$\\displaystyle 0.707106781186548 \\sqrt{- \\frac{Mp^{2} V_{0} λ^{4}}{Mp^{2} λ^{2} - 6.0}}$"
      ],
      "text/plain": [
       "0.707106781186548*sqrt(-Mp**2*V0*λ**4/(Mp**2*λ**2 - 6.0))"
      ]
     },
     "execution_count": 5,
     "metadata": {},
     "output_type": "execute_result"
    }
   ],
   "source": [
    "solve(eq1, B)[-1]"
   ]
  },
  {
   "cell_type": "code",
   "execution_count": 36,
   "metadata": {},
   "outputs": [
    {
     "data": {
      "text/plain": [
       "[{B: -0.707106781186548*λ*sqrt(-V0)}, {B: 0.707106781186548*λ*sqrt(-V0)}]"
      ]
     },
     "execution_count": 36,
     "metadata": {},
     "output_type": "execute_result"
    }
   ],
   "source": [
    "solve(H)"
   ]
  },
  {
   "cell_type": "code",
   "execution_count": 4,
   "metadata": {},
   "outputs": [
    {
     "data": {
      "text/latex": [
       "$\\displaystyle \\frac{\\sqrt{3} t \\sqrt{\\frac{\\frac{2.0}{t^{2} λ^{2}} + \\frac{V_{0}}{B^{2} t^{2}}}{Mp^{2}}}}{3}$"
      ],
      "text/plain": [
       "sqrt(3)*t*sqrt((2.0/(t**2*λ**2) + V0/(B**2*t**2))/Mp**2)/3"
      ]
     },
     "execution_count": 4,
     "metadata": {},
     "output_type": "execute_result"
    }
   ],
   "source": [
    "alpha = H * t\n",
    "alpha"
   ]
  },
  {
   "cell_type": "code",
   "execution_count": 52,
   "metadata": {},
   "outputs": [
    {
     "data": {
      "text/latex": [
       "$\\displaystyle \\frac{2}{t λ}$"
      ],
      "text/plain": [
       "2/(t*λ)"
      ]
     },
     "execution_count": 52,
     "metadata": {},
     "output_type": "execute_result"
    }
   ],
   "source": [
    "dphi"
   ]
  },
  {
   "cell_type": "code",
   "execution_count": 51,
   "metadata": {},
   "outputs": [
    {
     "data": {
      "text/latex": [
       "$\\displaystyle \\frac{\\sqrt{2} λ \\sqrt{- V_{0}}}{2}$"
      ],
      "text/plain": [
       "sqrt(2)*λ*sqrt(-V0)/2"
      ]
     },
     "execution_count": 51,
     "metadata": {},
     "output_type": "execute_result"
    }
   ],
   "source": [
    "eq = 2/lmbda**2 + V0/B**2\n",
    "solve(eq, B)[1]"
   ]
  },
  {
   "cell_type": "code",
   "execution_count": 43,
   "metadata": {},
   "outputs": [
    {
     "data": {
      "text/plain": [
       "[0, 2*sqrt(3)/Mp]"
      ]
     },
     "execution_count": 43,
     "metadata": {},
     "output_type": "execute_result"
    }
   ],
   "source": [
    "x = sp.Symbol(\"x\")\n",
    "eq = 2*sp.sqrt(3)/(Mp*lmbda) * x - 1/lmbda * x*x\n",
    "solve(eq, x)"
   ]
  },
  {
   "cell_type": "code",
   "execution_count": 49,
   "metadata": {},
   "outputs": [
    {
     "data": {
      "text/latex": [
       "$\\displaystyle \\frac{\\sqrt{2} λ \\sqrt{- \\frac{Mp V_{0}}{Mp - \\sqrt{3} λ^{2}}}}{2}$"
      ],
      "text/plain": [
       "sqrt(2)*λ*sqrt(-Mp*V0/(Mp - sqrt(3)*λ**2))/2"
      ]
     },
     "execution_count": 49,
     "metadata": {},
     "output_type": "execute_result"
    }
   ],
   "source": [
    "eq = 2*sp.sqrt(3)/Mp - 2/lmbda**2 - V0/B**2\n",
    "(solve(eq,B)[1]).simplify()"
   ]
  },
  {
   "cell_type": "code",
   "execution_count": 55,
   "metadata": {},
   "outputs": [
    {
     "data": {
      "text/latex": [
       "$\\displaystyle \\frac{\\sqrt{2} λ \\sqrt{- \\frac{Mp^{2} V_{0}}{Mp^{2} - 6 λ^{2}}}}{2}$"
      ],
      "text/plain": [
       "sqrt(2)*λ*sqrt(-Mp**2*V0/(Mp**2 - 6*λ**2))/2"
      ]
     },
     "execution_count": 55,
     "metadata": {},
     "output_type": "execute_result"
    }
   ],
   "source": [
    "eq = sp.sqrt(2/lmbda**2 + V0/B**2) - 2*sp.sqrt(3)/Mp\n",
    "(solve(eq, B)[-1]).simplify()"
   ]
  },
  {
   "cell_type": "code",
   "execution_count": 59,
   "metadata": {},
   "outputs": [
    {
     "data": {
      "text/latex": [
       "$\\displaystyle a{\\left(t \\right)} = t^{\\operatorname{re}{\\left(C_{0}\\right)}} \\left(C_{2} \\cos{\\left(\\log{\\left(t \\right)} \\operatorname{im}{\\left(C_{0}\\right)} \\right)} + \\left(- \\frac{C_{2} \\cos{\\left(\\log{\\left(t_{0} \\right)} \\operatorname{im}{\\left(C_{0}\\right)} \\right)}}{\\sin{\\left(\\log{\\left(t_{0} \\right)} \\left|{\\operatorname{im}{\\left(C_{0}\\right)}}\\right| \\right)}} + \\frac{a_{0} t_{0}^{- \\operatorname{re}{\\left(C_{0}\\right)}}}{\\sin{\\left(\\log{\\left(t_{0} \\right)} \\left|{\\operatorname{im}{\\left(C_{0}\\right)}}\\right| \\right)}}\\right) \\sin{\\left(\\log{\\left(t \\right)} \\left|{\\operatorname{im}{\\left(C_{0}\\right)}}\\right| \\right)}\\right)$"
      ],
      "text/plain": [
       "Eq(a(t), t**re(C0)*(C2*cos(log(t)*im(C0)) + (-C2*cos(log(t0)*im(C0))/sin(log(t0)*Abs(im(C0))) + a0/(t0**re(C0)*sin(log(t0)*Abs(im(C0)))))*sin(log(t)*Abs(im(C0)))))"
      ]
     },
     "execution_count": 59,
     "metadata": {},
     "output_type": "execute_result"
    }
   ],
   "source": [
    "from sympy import Function\n",
    "# C0 = 1/sp.sqrt(3)/Mp * sp.sqrt(2/lmbda**2 + V0/B**2)\n",
    "C0 = sp.Symbol(\"C0\")\n",
    "a = Function(\"a\")\n",
    "eq = a(t).diff(t)/a(t) - C0 / t\n",
    "a0, t0 = sp.symbols(\"a0 t0\")\n",
    "dsolve(eq, ics={a(t0): a0})"
   ]
  }
 ],
 "metadata": {
  "kernelspec": {
   "display_name": ".venv",
   "language": "python",
   "name": "python3"
  },
  "language_info": {
   "codemirror_mode": {
    "name": "ipython",
    "version": 3
   },
   "file_extension": ".py",
   "mimetype": "text/x-python",
   "name": "python",
   "nbconvert_exporter": "python",
   "pygments_lexer": "ipython3",
   "version": "3.11.3"
  }
 },
 "nbformat": 4,
 "nbformat_minor": 2
}
