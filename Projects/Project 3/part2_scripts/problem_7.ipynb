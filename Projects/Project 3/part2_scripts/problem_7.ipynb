{
 "cells": [
  {
   "cell_type": "code",
   "execution_count": 99,
   "metadata": {},
   "outputs": [],
   "source": [
    "import sympy as sp\n",
    "from sympy.solvers import solve\n",
    "\n",
    "# Problem 7c\n",
    "C, t, alpha, lmbda, B, V0, Mp = sp.symbols(\"C t α λ B V0 Mp\")\n",
    "\n",
    "a = C * t**alpha\n",
    "da = sp.diff(a, t).simplify()\n",
    "\n",
    "phi = 2 / lmbda * sp.log(B * t)\n",
    "dphi = sp.diff(phi, t)\n",
    "ddphi = sp.diff(dphi, t)\n",
    "\n",
    "V = V0 * sp.exp(-lmbda * phi)\n",
    "dV = sp.diff(V, t) / dphi\n",
    "\n",
    "H = sp.sqrt(1 / (3 * Mp**2) * (0.5 * dphi**2 + V))\n",
    "eq1 = ddphi + 3 * H * dphi + dV"
   ]
  },
  {
   "cell_type": "code",
   "execution_count": 100,
   "metadata": {},
   "outputs": [
    {
     "data": {
      "image/png": "[encoded data removed]",
      "text/latex": [
       "$\\displaystyle \\left[ \\left\\{ B : - 0.707106781186548 \\sqrt{- V_{0} λ^{2}}\\right\\}, \\  \\left\\{ B : 0.707106781186548 \\sqrt{- V_{0} λ^{2}}\\right\\}, \\  \\left\\{ B : - 0.707106781186548 \\sqrt{- \\frac{Mp^{2} V_{0} λ^{4}}{Mp^{2} λ^{2} - 6.0}}\\right\\}, \\  \\left\\{ B : 0.707106781186548 \\sqrt{- \\frac{Mp^{2} V_{0} λ^{4}}{Mp^{2} λ^{2} - 6.0}}\\right\\}\\right]$"
      ],
      "text/plain": [
       "⎡                                                                         ⎧   \n",
       "⎢⎧                         ________⎫  ⎧                        ________⎫  ⎪   \n",
       "⎢⎨                        ╱      2 ⎬  ⎨                       ╱      2 ⎬  ⎪   \n",
       "⎢⎩B: -0.707106781186548⋅╲╱  -V₀⋅λ  ⎭, ⎩B: 0.707106781186548⋅╲╱  -V₀⋅λ  ⎭, ⎨B: \n",
       "⎢                                                                         ⎪   \n",
       "⎢                                                                         ⎪   \n",
       "⎣                                                                         ⎩   \n",
       "\n",
       "                         ______________⎫  ⎧                           ________\n",
       "                        ╱    2     4   ⎪  ⎪                          ╱    2   \n",
       "                       ╱  -Mp ⋅V₀⋅λ    ⎪  ⎪                         ╱  -Mp ⋅V₀\n",
       "-0.707106781186548⋅   ╱   ──────────── ⎬, ⎨B: 0.707106781186548⋅   ╱   ───────\n",
       "                     ╱      2  2       ⎪  ⎪                       ╱      2  2 \n",
       "                   ╲╱     Mp ⋅λ  - 6.0 ⎪  ⎪                     ╲╱     Mp ⋅λ  \n",
       "                                       ⎭  ⎩                                   \n",
       "\n",
       "______⎫⎤\n",
       "  4   ⎪⎥\n",
       "⋅λ    ⎪⎥\n",
       "───── ⎬⎥\n",
       "      ⎪⎥\n",
       "- 6.0 ⎪⎥\n",
       "      ⎭⎦"
      ]
     },
     "execution_count": 100,
     "metadata": {},
     "output_type": "execute_result"
    }
   ],
   "source": [
    "solve(eq1)"
   ]
  },
  {
   "cell_type": "code",
   "execution_count": 101,
   "metadata": {},
   "outputs": [
    {
     "data": {
      "image/png": "[encoded data removed]",
      "text/latex": [
       "$\\displaystyle \\left[ \\left\\{ B : - 0.707106781186548 λ \\sqrt{- V_{0}}\\right\\}, \\  \\left\\{ B : 0.707106781186548 λ \\sqrt{- V_{0}}\\right\\}\\right]$"
      ],
      "text/plain": [
       "⎡⎧                          _____⎫  ⎧                         _____⎫⎤\n",
       "⎢⎨B: -0.707106781186548⋅λ⋅╲╱ -V₀ ⎬, ⎨B: 0.707106781186548⋅λ⋅╲╱ -V₀ ⎬⎥\n",
       "⎣⎩                               ⎭  ⎩                              ⎭⎦"
      ]
     },
     "execution_count": 101,
     "metadata": {},
     "output_type": "execute_result"
    }
   ],
   "source": [
    "solve(H)"
   ]
  },
  {
   "cell_type": "code",
   "execution_count": 102,
   "metadata": {},
   "outputs": [
    {
     "data": {
      "image/png": "[encoded data removed]",
      "text/latex": [
       "$\\displaystyle \\frac{\\sqrt{3} t \\sqrt{\\frac{\\frac{2.0}{t^{2} λ^{2}} + \\frac{V_{0}}{B^{2} t^{2}}}{Mp^{2}}}}{3}$"
      ],
      "text/plain": [
       "             _______________\n",
       "            ╱  2.0      V₀  \n",
       "           ╱  ───── + ───── \n",
       "          ╱    2  2    2  2 \n",
       "         ╱    t ⋅λ    B ⋅t  \n",
       "√3⋅t⋅   ╱     ───────────── \n",
       "       ╱             2      \n",
       "     ╲╱            Mp       \n",
       "────────────────────────────\n",
       "             3              "
      ]
     },
     "execution_count": 102,
     "metadata": {},
     "output_type": "execute_result"
    }
   ],
   "source": [
    "alpha = H * t\n",
    "alpha"
   ]
  }
 ],
 "metadata": {
  "kernelspec": {
   "display_name": ".venv",
   "language": "python",
   "name": "python3"
  },
  "language_info": {
   "codemirror_mode": {
    "name": "ipython",
    "version": 3
   },
   "file_extension": ".py",
   "mimetype": "text/x-python",
   "name": "python",
   "nbconvert_exporter": "python",
   "pygments_lexer": "ipython3",
   "version": "3.11.3"
  }
 },
 "nbformat": 4,
 "nbformat_minor": 2
}
